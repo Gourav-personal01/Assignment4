{
 "cells": [
  {
   "cell_type": "code",
   "execution_count": 6,
   "id": "ccec34f5-686c-4ad3-a21b-1fcc9b380042",
   "metadata": {},
   "outputs": [
    {
     "name": "stdout",
     "output_type": "stream",
     "text": [
      "[1, 2, 3, 4, 5, 6, 7, 8, 9, 10, 11, 12, 13, 14, 15, 16, 17, 18, 19, 20, 21, 22, 23, 24]\n",
      "620448401733239439360000\n"
     ]
    }
   ],
   "source": [
    "from functools import reduce\n",
    "l = []\n",
    "for i in range(1,25):\n",
    "    l.append(i)\n",
    "l1 = l\n",
    "print(l1)\n",
    "print(reduce(lambda x,y: x*y,l1))\n"
   ]
  },
  {
   "cell_type": "code",
   "execution_count": null,
   "id": "6f693eb2-f35e-4237-819c-ba61ed29f462",
   "metadata": {},
   "outputs": [],
   "source": []
  },
  {
   "cell_type": "code",
   "execution_count": null,
   "id": "807cd258-3174-4236-bbaa-58fc672f8384",
   "metadata": {},
   "outputs": [],
   "source": []
  }
 ],
 "metadata": {
  "kernelspec": {
   "display_name": "Python 3 (ipykernel)",
   "language": "python",
   "name": "python3"
  },
  "language_info": {
   "codemirror_mode": {
    "name": "ipython",
    "version": 3
   },
   "file_extension": ".py",
   "mimetype": "text/x-python",
   "name": "python",
   "nbconvert_exporter": "python",
   "pygments_lexer": "ipython3",
   "version": "3.10.8"
  }
 },
 "nbformat": 4,
 "nbformat_minor": 5
}
